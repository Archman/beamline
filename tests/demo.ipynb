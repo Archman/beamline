{
 "cells": [
  {
   "cell_type": "markdown",
   "metadata": {
    "collapsed": false
   },
   "source": [
    "## Demonstration for using *beamline* python module to do online modeling.\n",
    "    \n",
    "For example, define lattice configuration for a 4-dipole chicane with quads:\n",
    "                    \n",
    "                    |-|---|-|  \n",
    "                    /       \\\n",
    "          ---||---|-|       |-|---||---\n",
    "\n",
    "        i.e.   drift + quad  + drift \n",
    "            + dipole + drift + dipole + drift \n",
    "            + dipole + drift + dipole\n",
    "            + drift  + quad  + drift\n",
    "\n",
    "Below is the typical workflow:"
   ]
  },
  {
   "cell_type": "code",
   "execution_count": 1,
   "metadata": {
    "collapsed": false
   },
   "outputs": [],
   "source": [
    "import beamline\n",
    "import os"
   ]
  },
  {
   "cell_type": "markdown",
   "metadata": {},
   "source": [
    "#### STEP 1: define common information, two different input parameter formats"
   ]
  },
  {
   "cell_type": "code",
   "execution_count": 2,
   "metadata": {
    "collapsed": true
   },
   "outputs": [],
   "source": [
    "#commdinfo = {'DATE': '2016-03-22', 'AUTHOR': 'Tong Zhang'}\n",
    "comminfo = 'DATE = 2016-03-24, AUTHOR = Tong Zhang'\n",
    "beamline.MagBlock.setCommInfo(comminfo)"
   ]
  },
  {
   "cell_type": "markdown",
   "metadata": {},
   "source": [
    "#### STEP 2: create elements"
   ]
  },
  {
   "cell_type": "code",
   "execution_count": 22,
   "metadata": {
    "collapsed": false
   },
   "outputs": [
    {
     "name": "stdout",
     "output_type": "stream",
     "text": [
      "{'Q1': {'QUAD': {'tilt': 'pi 4 /', 'k1': {'pv': 'sxfel:lattice:Q09', 'val': ''}, 'l': '0.1'}}}\n",
      "---------- Configuration START  ----------\n",
      "class name: ElementQuad\n",
      "Common configs:\n",
      "  DATE   = 2016-03-24\n",
      "  AUTHOR = Tong Zhang\n",
      "Simulation configs:\n",
      "  tilt   = pi 4 /\n",
      "  l      = 0.1   \n",
      "  k1     = 10    \n",
      "Control configs:\n",
      "  k1     = sxfel:lattice:Q09, 1.0   \n",
      "----------  Configuration END   ----------\n"
     ]
    }
   ],
   "source": [
    "# charge\n",
    "chconf = {'total':1e-9}\n",
    "q = beamline.ElementCharge(name = 'q', config = chconf)\n",
    "\n",
    "# csrcsben\n",
    "simconf = {\"edge1_effects\": 1,\n",
    "           \"edge2_effects\":1,\n",
    "           \"hgap\":0.015,\n",
    "           \"csr\":0,\n",
    "           \"nonlinear\":1,\n",
    "           \"n_kicks\":100,\n",
    "           \"integration_order\":4,\n",
    "           \"bins\":512,\n",
    "           \"sg_halfwidth\":1,\n",
    "           \"block_csr\":0,\n",
    "           'l':0.5,}\n",
    "angle = 0.1 # rad\n",
    "\n",
    "B1 = beamline.ElementCsrcsben(name = 'b1', config = {'angle':angle, 'e1':0, 'e2':angle})\n",
    "B1.setConf(simconf, type = 'simu')\n",
    "    \n",
    "B2 = beamline.ElementCsrcsben(name = 'b2', config = {'angle':-angle, 'e1':-angle, 'e2':0})\n",
    "B3 = beamline.ElementCsrcsben(name = 'b3', config = {'angle':-angle, 'e1':0,      'e2':-angle})\n",
    "B4 = beamline.ElementCsrcsben(name = 'b4', config = {'angle': angle, 'e1':angle,  'e2':0})\n",
    "B2.setConf(simconf, type = 'simu')\n",
    "B3.setConf(simconf, type = 'simu')\n",
    "B4.setConf(simconf, type = 'simu')\n",
    "\n",
    "# drift\n",
    "D0 = beamline.ElementDrift(name = 'D0', config = \"l=1.0\")\n",
    "\n",
    "# quad\n",
    "Q1 = beamline.ElementQuad(name = 'Q1', config = \"k1 = 10, l = 0.1\")\n",
    "simuconf = {'tilt':\"pi 4 /\"}\n",
    "Q1.setConf(simuconf, type = 'simu')\n",
    "# control configurations for Q1\n",
    "ctrlconf = {\"k1\":{'pv':\"sxfel:lattice:Q09\",'val':''}}\n",
    "Q1.setConf(ctrlconf, type = 'ctrl')\n",
    "print Q1.dumpConfig(type='online')\n",
    "#Q1.printConfig(type = 'simu')\n",
    "Q1.printConfig(type = 'all')"
   ]
  },
  {
   "cell_type": "markdown",
   "metadata": {},
   "source": [
    "#### STEP 3: make lattice beamline"
   ]
  },
  {
   "cell_type": "code",
   "execution_count": 4,
   "metadata": {
    "collapsed": false
   },
   "outputs": [
    {
     "data": {
      "text/plain": [
       "15"
      ]
     },
     "execution_count": 4,
     "metadata": {},
     "output_type": "execute_result"
    }
   ],
   "source": [
    "# METHOD 1: CANNOT get all configurations\n",
    "# use 'ElementBeamline' class of 'element' module\n",
    "#\n",
    "# beamline\n",
    "latele = [obj.name for obj in [q, D0, Q1, D0, B1, D0, B2, D0, D0, B3, D0, B4, D0, Q1, D0]]\n",
    "latstr = '(' + ' '.join(latele) + ')'\n",
    " \n",
    "bl = beamline.ElementBeamline(name = 'bl', config = {'lattice':latstr})\n",
    "#bl = beamline.ElementBeamline(name = 'bl1', config = \"lattice = (q d0 q1)\")\n",
    "#bl.setConf(\"lattice = (d,q,b)\", type = 'simu')\n",
    "#print bl\n",
    "\n",
    "# METHOD 2: CAN get all configurations\n",
    "# use 'Models' class of 'models' module\n",
    "latline_online = beamline.Models(name = 'blchi', mode = 'online')\n",
    "qline = (D0, Q1, D0)\n",
    "chi   = (B1, D0, B2, D0, D0, B3, D0, B4)\n",
    "latline_online.addElement(q, qline, chi, qline)\n",
    "#latline_online.getCtrlConf()\n",
    "    \n",
    "# show defined elements number\n",
    "#print beamline.MagBlock.sumObjNum()"
   ]
  },
  {
   "cell_type": "code",
   "execution_count": null,
   "metadata": {
    "collapsed": false
   },
   "outputs": [],
   "source": []
  },
  {
   "cell_type": "code",
   "execution_count": 5,
   "metadata": {
    "collapsed": false
   },
   "outputs": [
    {
     "data": {
      "text/plain": [
       "{'QUAD': {'k1': 1.0, 'l': '0.1', 'tilt': 'pi 4 /'}}"
      ]
     },
     "execution_count": 5,
     "metadata": {},
     "output_type": "execute_result"
    }
   ],
   "source": [
    "latline_online.getAllConfig(fmt='dict')['Q1']"
   ]
  },
  {
   "cell_type": "code",
   "execution_count": 6,
   "metadata": {
    "collapsed": false
   },
   "outputs": [],
   "source": [
    "qcharge = filter(lambda x:x.name == 'q', latline_online._lattice_eleobjlist)[0]\n",
    "qcharge.setConf('total = 1e-9',type='simu')"
   ]
  },
  {
   "cell_type": "code",
   "execution_count": 7,
   "metadata": {
    "collapsed": false
   },
   "outputs": [
    {
     "name": "stdout",
     "output_type": "stream",
     "text": [
      "ID : Name         Type       Class Name\n",
      "001: q            CHARGE     ElementCharge\n",
      "002: D0           DRIFT      ElementDrift\n",
      "003: Q1           QUAD       ElementQuad\n",
      "004: D0           DRIFT      ElementDrift\n",
      "005: b1           CSRCSBEN   ElementCsrcsben\n",
      "006: D0           DRIFT      ElementDrift\n",
      "007: b2           CSRCSBEN   ElementCsrcsben\n",
      "008: D0           DRIFT      ElementDrift\n",
      "009: D0           DRIFT      ElementDrift\n",
      "010: b3           CSRCSBEN   ElementCsrcsben\n",
      "011: D0           DRIFT      ElementDrift\n",
      "012: b4           CSRCSBEN   ElementCsrcsben\n",
      "013: D0           DRIFT      ElementDrift\n",
      "014: Q1           QUAD       ElementQuad\n",
      "015: D0           DRIFT      ElementDrift\n"
     ]
    }
   ],
   "source": [
    "eleb1 = latline_online.getElementsByName('b1')\n",
    "latline_online.printAllElements()"
   ]
  },
  {
   "cell_type": "code",
   "execution_count": 8,
   "metadata": {
    "collapsed": false
   },
   "outputs": [],
   "source": [
    "eleb1.setConf('angle = 0.1',type='simu')"
   ]
  },
  {
   "cell_type": "code",
   "execution_count": 9,
   "metadata": {
    "collapsed": false
   },
   "outputs": [
    {
     "name": "stdout",
     "output_type": "stream",
     "text": [
      "---------- Configuration START  ----------\n",
      "class name: ElementQuad\n",
      "Common configs:\n",
      "  DATE   = 2016-03-24\n",
      "  AUTHOR = Tong Zhang\n",
      "Simulation configs:\n",
      "  tilt   = pi 4 /\n",
      "  l      = 0.1   \n",
      "  k1     = 10    \n",
      "Control configs:\n",
      "  k1     = sxfel:lattice:Q09, 1.0   \n",
      "----------  Configuration END   ----------\n"
     ]
    }
   ],
   "source": [
    "eleQ1 = latline_online.getElementsByName('Q1')\n",
    "eleQ1.printConfig(type='all')"
   ]
  },
  {
   "cell_type": "code",
   "execution_count": 10,
   "metadata": {
    "collapsed": false
   },
   "outputs": [
    {
     "data": {
      "text/plain": [
       "True"
      ]
     },
     "execution_count": 10,
     "metadata": {},
     "output_type": "execute_result"
    }
   ],
   "source": [
    "latline_online.putCtrlConf(eleQ1, 'k1', 1)"
   ]
  },
  {
   "cell_type": "code",
   "execution_count": 11,
   "metadata": {
    "collapsed": false
   },
   "outputs": [
    {
     "data": {
      "text/plain": [
       "{'B1': {'CSRCSBEN': {'angle': 0.1,\n",
       "   'bins': 512,\n",
       "   'block_csr': 0,\n",
       "   'csr': 0,\n",
       "   'e1': 0,\n",
       "   'e2': 0.1,\n",
       "   'edge1_effects': 1,\n",
       "   'edge2_effects': 1,\n",
       "   'hgap': 0.015,\n",
       "   'integration_order': 4,\n",
       "   'l': 0.5,\n",
       "   'n_kicks': 100,\n",
       "   'nonlinear': 1,\n",
       "   'sg_halfwidth': 1}},\n",
       " 'B2': {'CSRCSBEN': {'angle': -0.1,\n",
       "   'bins': 512,\n",
       "   'block_csr': 0,\n",
       "   'csr': 0,\n",
       "   'e1': -0.1,\n",
       "   'e2': 0,\n",
       "   'edge1_effects': 1,\n",
       "   'edge2_effects': 1,\n",
       "   'hgap': 0.015,\n",
       "   'integration_order': 4,\n",
       "   'l': 0.5,\n",
       "   'n_kicks': 100,\n",
       "   'nonlinear': 1,\n",
       "   'sg_halfwidth': 1}},\n",
       " 'B3': {'CSRCSBEN': {'angle': -0.1,\n",
       "   'bins': 512,\n",
       "   'block_csr': 0,\n",
       "   'csr': 0,\n",
       "   'e1': 0,\n",
       "   'e2': -0.1,\n",
       "   'edge1_effects': 1,\n",
       "   'edge2_effects': 1,\n",
       "   'hgap': 0.015,\n",
       "   'integration_order': 4,\n",
       "   'l': 0.5,\n",
       "   'n_kicks': 100,\n",
       "   'nonlinear': 1,\n",
       "   'sg_halfwidth': 1}},\n",
       " 'B4': {'CSRCSBEN': {'angle': 0.1,\n",
       "   'bins': 512,\n",
       "   'block_csr': 0,\n",
       "   'csr': 0,\n",
       "   'e1': 0.1,\n",
       "   'e2': 0,\n",
       "   'edge1_effects': 1,\n",
       "   'edge2_effects': 1,\n",
       "   'hgap': 0.015,\n",
       "   'integration_order': 4,\n",
       "   'l': 0.5,\n",
       "   'n_kicks': 100,\n",
       "   'nonlinear': 1,\n",
       "   'sg_halfwidth': 1}},\n",
       " 'BLCHI': {'BEAMLINE': {'lattice': '(q D0 Q1 D0 b1 D0 b2 D0 D0 b3 D0 b4 D0 Q1 D0)'}},\n",
       " 'D0': {'DRIFT': {'l': '1.0'}},\n",
       " 'Q': {'CHARGE': {'total': 1e-09}},\n",
       " 'Q1': {'QUAD': {'k1': 1.0, 'l': '0.1', 'tilt': 'pi 4 /'}}}"
      ]
     },
     "execution_count": 11,
     "metadata": {},
     "output_type": "execute_result"
    }
   ],
   "source": [
    "latline_online.getAllConfig(fmt='dict')"
   ]
  },
  {
   "cell_type": "markdown",
   "metadata": {},
   "source": [
    "#### STEP 4: create Lattice instance, make simulation required input files"
   ]
  },
  {
   "cell_type": "code",
   "execution_count": 12,
   "metadata": {
    "collapsed": false
   },
   "outputs": [
    {
     "data": {
      "text/plain": [
       "True"
      ]
     },
     "execution_count": 12,
     "metadata": {},
     "output_type": "execute_result"
    }
   ],
   "source": [
    "# e.g. '.lte' for elegant tracking, require all configurations\n",
    "latins = beamline.Lattice(latline_online.getAllConfig())\n",
    "latfile = os.path.join(os.getcwd(), 'tracking/test.lte')\n",
    "latins.generateLatticeFile(latline_online.name, latfile)"
   ]
  },
  {
   "cell_type": "code",
   "execution_count": 13,
   "metadata": {
    "collapsed": false
   },
   "outputs": [
    {
     "data": {
      "text/plain": [
       "'{\"Q1\": {\"QUAD\": {\"tilt\": \"pi 4 /\", \"k1\": 1.0, \"l\": \"0.1\"}}, \"B4\": {\"CSRCSBEN\": {\"hgap\": 0.015, \"integration_order\": 4, \"block_csr\": 0, \"angle\": 0.1, \"n_kicks\": 100, \"edge2_effects\": 1, \"edge1_effects\": 1, \"l\": 0.5, \"nonlinear\": 1, \"sg_halfwidth\": 1, \"csr\": 0, \"e1\": 0.1, \"bins\": 512, \"e2\": 0}}, \"Q\": {\"CHARGE\": {\"total\": 1e-09}}, \"BLCHI\": {\"BEAMLINE\": {\"lattice\": \"(q D0 Q1 D0 b1 D0 b2 D0 D0 b3 D0 b4 D0 Q1 D0)\"}}, \"B1\": {\"CSRCSBEN\": {\"hgap\": 0.015, \"integration_order\": 4, \"block_csr\": 0, \"angle\": 0.1, \"n_kicks\": 100, \"edge2_effects\": 1, \"edge1_effects\": 1, \"l\": 0.5, \"nonlinear\": 1, \"sg_halfwidth\": 1, \"csr\": 0, \"e1\": 0, \"bins\": 512, \"e2\": 0.1}}, \"B2\": {\"CSRCSBEN\": {\"hgap\": 0.015, \"integration_order\": 4, \"block_csr\": 0, \"angle\": -0.1, \"n_kicks\": 100, \"edge2_effects\": 1, \"edge1_effects\": 1, \"l\": 0.5, \"nonlinear\": 1, \"sg_halfwidth\": 1, \"csr\": 0, \"e1\": -0.1, \"bins\": 512, \"e2\": 0}}, \"B3\": {\"CSRCSBEN\": {\"hgap\": 0.015, \"integration_order\": 4, \"block_csr\": 0, \"angle\": -0.1, \"n_kicks\": 100, \"edge2_effects\": 1, \"edge1_effects\": 1, \"l\": 0.5, \"nonlinear\": 1, \"sg_halfwidth\": 1, \"csr\": 0, \"e1\": 0, \"bins\": 512, \"e2\": -0.1}}, \"D0\": {\"DRIFT\": {\"l\": \"1.0\"}}}'"
      ]
     },
     "execution_count": 13,
     "metadata": {},
     "output_type": "execute_result"
    }
   ],
   "source": [
    "latins.dumpAllElements()"
   ]
  },
  {
   "cell_type": "markdown",
   "metadata": {},
   "source": [
    "#### STEP 5: simulation with generated lattice file"
   ]
  },
  {
   "cell_type": "code",
   "execution_count": 14,
   "metadata": {
    "collapsed": true
   },
   "outputs": [],
   "source": [
    "simpath = os.path.join(os.getcwd(), 'tracking')\n",
    "elefile = os.path.join(simpath, 'test.ele')\n",
    "h5out   = os.path.join(simpath, 'tpout.h5')\n",
    "elesim = beamline.Simulator()\n",
    "elesim.setMode('elegant')\n",
    "elesim.setScript('runElegant.sh')\n",
    "elesim.setExec('elegant')\n",
    "elesim.setPath(simpath)\n",
    "elesim.setInputfiles(ltefile = latfile, elefile = elefile)\n"
   ]
  },
  {
   "cell_type": "code",
   "execution_count": 15,
   "metadata": {
    "collapsed": true
   },
   "outputs": [],
   "source": [
    "elesim.doSimulation()"
   ]
  },
  {
   "cell_type": "code",
   "execution_count": 16,
   "metadata": {
    "collapsed": true
   },
   "outputs": [],
   "source": [
    "# data columns could be extracted from simulation output files, to memory or h5 files.\n",
    "data_tp    = elesim.getOutput(file = 'test.out', data = ('t', 'p'  ))#, dump = h5out)\n",
    "data_sSx   = elesim.getOutput(file = 'test.sig', data = ('s', 'Sx' ))\n",
    "data_setax = elesim.getOutput(file = 'test.twi', data = ('s', 'etax'))"
   ]
  },
  {
   "cell_type": "markdown",
   "metadata": {},
   "source": [
    "#### visualize data"
   ]
  },
  {
   "cell_type": "code",
   "execution_count": 17,
   "metadata": {
    "collapsed": false
   },
   "outputs": [],
   "source": [
    "import matplotlib.pyplot as plt\n",
    "%matplotlib inline"
   ]
  },
  {
   "cell_type": "code",
   "execution_count": 18,
   "metadata": {
    "collapsed": false
   },
   "outputs": [
    {
     "data": {
      "text/plain": [
       "<matplotlib.text.Text at 0x7f7df26f0cd0>"
      ]
     },
     "execution_count": 18,
     "metadata": {},
     "output_type": "execute_result"
    },
    {
     "data": {
      "image/png": "[encoded data removed]",
      "text/plain": [
       "<matplotlib.figure.Figure at 0x7f7df3b7f7d0>"
      ]
     },
     "metadata": {},
     "output_type": "display_data"
    }
   ],
   "source": [
    "plt.plot(data_tp[:,0],data_tp[:,1],'.')\n",
    "plt.xlabel('$t\\,[s]$')\n",
    "plt.ylabel('$\\gamma$')"
   ]
  },
  {
   "cell_type": "code",
   "execution_count": 19,
   "metadata": {
    "collapsed": false
   },
   "outputs": [
    {
     "data": {
      "text/plain": [
       "<matplotlib.text.Text at 0x7f7df256b790>"
      ]
     },
     "execution_count": 19,
     "metadata": {},
     "output_type": "execute_result"
    },
    {
     "data": {
      "image/png": "[encoded data removed]",
      "text/plain": [
       "<matplotlib.figure.Figure at 0x7f7e1157c290>"
      ]
     },
     "metadata": {},
     "output_type": "display_data"
    }
   ],
   "source": [
    "plt.plot(data_sSx[:,0],data_sSx[:,1],'-')\n",
    "plt.ylabel('$\\sigma_x\\,[\\mu m]$')\n",
    "plt.xlabel('$s\\,[m]$')"
   ]
  },
  {
   "cell_type": "code",
   "execution_count": 20,
   "metadata": {
    "collapsed": false
   },
   "outputs": [
    {
     "data": {
      "text/plain": [
       "<matplotlib.text.Text at 0x7f7df3b7f490>"
      ]
     },
     "execution_count": 20,
     "metadata": {},
     "output_type": "execute_result"
    },
    {
     "data": {
      "image/png": "[encoded data removed]",
      "text/plain": [
       "<matplotlib.figure.Figure at 0x7f7df25dc910>"
      ]
     },
     "metadata": {},
     "output_type": "display_data"
    }
   ],
   "source": [
    "plt.plot(data_setax[:,0],data_setax[:,1],'-')\n",
    "plt.ylabel('$\\eta_{x}\\,[m]$')\n",
    "plt.xlabel('$s\\,[m]$')"
   ]
  },
  {
   "cell_type": "code",
   "execution_count": null,
   "metadata": {
    "collapsed": true
   },
   "outputs": [],
   "source": []
  }
 ],
 "metadata": {
  "kernelspec": {
   "display_name": "Python 2",
   "language": "python",
   "name": "python2"
  },
  "language_info": {
   "codemirror_mode": {
    "name": "ipython",
    "version": 2
   },
   "file_extension": ".py",
   "mimetype": "text/x-python",
   "name": "python",
   "nbconvert_exporter": "python",
   "pygments_lexer": "ipython2",
   "version": "2.7.6"
  }
 },
 "nbformat": 4,
 "nbformat_minor": 0
}
